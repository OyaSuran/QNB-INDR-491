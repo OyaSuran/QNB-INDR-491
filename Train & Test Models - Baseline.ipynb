{
 "cells": [
  {
   "cell_type": "markdown",
   "id": "b1f4ad61",
   "metadata": {},
   "source": [
    "### Classification Algorithms:\n",
    "\n",
    "1. Logictic Regression\n",
    " \n",
    "2. Naive Bayes\n",
    "\n",
    "3. K-Nearest Neighbors\n",
    "\n",
    "4. Support Vector Machines\n",
    "\n",
    "5. Decision Tree\n",
    "\n",
    "6. XGBoost\n",
    "\n",
    "7. LightGBM\n",
    "\n",
    "8. Random Forest Classifiers\n"
   ]
  },
  {
   "cell_type": "code",
   "execution_count": 1,
   "id": "a44e6e48",
   "metadata": {},
   "outputs": [
    {
     "name": "stderr",
     "output_type": "stream",
     "text": [
      "/Users/firattamur/Desktop/spring22/indr491/QNBFinansBank/env/lib/python3.8/site-packages/xgboost/compat.py:36: FutureWarning: pandas.Int64Index is deprecated and will be removed from pandas in a future version. Use pandas.Index with the appropriate dtype instead.\n",
      "  from pandas import MultiIndex, Int64Index\n"
     ]
    }
   ],
   "source": [
    "\n",
    "import numpy  as np\n",
    "import pandas as pd\n",
    "\n",
    "\n",
    "from models.classifiers import Classifiers\n",
    "from models.custom_ml_classifiers import CustomMLClassifiers\n",
    "\n",
    "import warnings\n",
    "warnings.filterwarnings('ignore')\n"
   ]
  },
  {
   "cell_type": "code",
   "execution_count": 2,
   "id": "038c121e",
   "metadata": {},
   "outputs": [],
   "source": [
    "\n",
    "# data paths\n",
    "path_train_baseline = \"./data/train.csv\"\n"
   ]
  },
  {
   "cell_type": "code",
   "execution_count": 3,
   "id": "c0d76485",
   "metadata": {
    "scrolled": true
   },
   "outputs": [
    {
     "data": {
      "text/html": [
       "<div>\n",
       "<style scoped>\n",
       "    .dataframe tbody tr th:only-of-type {\n",
       "        vertical-align: middle;\n",
       "    }\n",
       "\n",
       "    .dataframe tbody tr th {\n",
       "        vertical-align: top;\n",
       "    }\n",
       "\n",
       "    .dataframe thead th {\n",
       "        text-align: right;\n",
       "    }\n",
       "</style>\n",
       "<table border=\"1\" class=\"dataframe\">\n",
       "  <thead>\n",
       "    <tr style=\"text-align: right;\">\n",
       "      <th></th>\n",
       "      <th>ID</th>\n",
       "      <th>VAR0</th>\n",
       "      <th>VAR1</th>\n",
       "      <th>VAR2</th>\n",
       "      <th>VAR3</th>\n",
       "      <th>VAR4</th>\n",
       "      <th>VAR5</th>\n",
       "      <th>VAR6</th>\n",
       "      <th>VAR7</th>\n",
       "      <th>VAR8</th>\n",
       "      <th>...</th>\n",
       "      <th>CAT3</th>\n",
       "      <th>CAT4</th>\n",
       "      <th>CAT5</th>\n",
       "      <th>CAT6</th>\n",
       "      <th>CAT7</th>\n",
       "      <th>CAT8</th>\n",
       "      <th>CAT9</th>\n",
       "      <th>CAT10</th>\n",
       "      <th>CAT11</th>\n",
       "      <th>CAT12</th>\n",
       "    </tr>\n",
       "  </thead>\n",
       "  <tbody>\n",
       "    <tr>\n",
       "      <th>0</th>\n",
       "      <td>0</td>\n",
       "      <td>0.799805</td>\n",
       "      <td>0.184174</td>\n",
       "      <td>0.000000</td>\n",
       "      <td>0.000000</td>\n",
       "      <td>0.168984</td>\n",
       "      <td>0.037037</td>\n",
       "      <td>0.000</td>\n",
       "      <td>0.200195</td>\n",
       "      <td>0.788112</td>\n",
       "      <td>...</td>\n",
       "      <td>2.0</td>\n",
       "      <td>4.0</td>\n",
       "      <td>3.0</td>\n",
       "      <td>2.0</td>\n",
       "      <td>2.0</td>\n",
       "      <td>2.0</td>\n",
       "      <td>7.0</td>\n",
       "      <td>7.0</td>\n",
       "      <td>0.0</td>\n",
       "      <td>0.0</td>\n",
       "    </tr>\n",
       "    <tr>\n",
       "      <th>1</th>\n",
       "      <td>1</td>\n",
       "      <td>NaN</td>\n",
       "      <td>0.180594</td>\n",
       "      <td>0.000000</td>\n",
       "      <td>0.000000</td>\n",
       "      <td>0.165312</td>\n",
       "      <td>NaN</td>\n",
       "      <td>NaN</td>\n",
       "      <td>NaN</td>\n",
       "      <td>NaN</td>\n",
       "      <td>...</td>\n",
       "      <td>1.0</td>\n",
       "      <td>3.0</td>\n",
       "      <td>0.0</td>\n",
       "      <td>3.0</td>\n",
       "      <td>26.0</td>\n",
       "      <td>3.0</td>\n",
       "      <td>2.0</td>\n",
       "      <td>26.0</td>\n",
       "      <td>26.0</td>\n",
       "      <td>3.0</td>\n",
       "    </tr>\n",
       "    <tr>\n",
       "      <th>2</th>\n",
       "      <td>2</td>\n",
       "      <td>0.799805</td>\n",
       "      <td>0.199255</td>\n",
       "      <td>0.000000</td>\n",
       "      <td>0.000000</td>\n",
       "      <td>0.167613</td>\n",
       "      <td>0.000000</td>\n",
       "      <td>0.000</td>\n",
       "      <td>0.200195</td>\n",
       "      <td>0.788112</td>\n",
       "      <td>...</td>\n",
       "      <td>2.0</td>\n",
       "      <td>2.0</td>\n",
       "      <td>6.0</td>\n",
       "      <td>2.0</td>\n",
       "      <td>15.0</td>\n",
       "      <td>2.0</td>\n",
       "      <td>7.0</td>\n",
       "      <td>15.0</td>\n",
       "      <td>15.0</td>\n",
       "      <td>0.0</td>\n",
       "    </tr>\n",
       "    <tr>\n",
       "      <th>3</th>\n",
       "      <td>3</td>\n",
       "      <td>0.677137</td>\n",
       "      <td>0.209870</td>\n",
       "      <td>0.166667</td>\n",
       "      <td>0.181818</td>\n",
       "      <td>0.190511</td>\n",
       "      <td>0.222222</td>\n",
       "      <td>0.125</td>\n",
       "      <td>0.322863</td>\n",
       "      <td>0.788112</td>\n",
       "      <td>...</td>\n",
       "      <td>0.0</td>\n",
       "      <td>1.0</td>\n",
       "      <td>3.0</td>\n",
       "      <td>1.0</td>\n",
       "      <td>19.0</td>\n",
       "      <td>2.0</td>\n",
       "      <td>7.0</td>\n",
       "      <td>19.0</td>\n",
       "      <td>19.0</td>\n",
       "      <td>0.0</td>\n",
       "    </tr>\n",
       "    <tr>\n",
       "      <th>4</th>\n",
       "      <td>4</td>\n",
       "      <td>NaN</td>\n",
       "      <td>0.180594</td>\n",
       "      <td>0.000000</td>\n",
       "      <td>0.000000</td>\n",
       "      <td>0.165312</td>\n",
       "      <td>0.000000</td>\n",
       "      <td>NaN</td>\n",
       "      <td>NaN</td>\n",
       "      <td>NaN</td>\n",
       "      <td>...</td>\n",
       "      <td>1.0</td>\n",
       "      <td>4.0</td>\n",
       "      <td>0.0</td>\n",
       "      <td>3.0</td>\n",
       "      <td>26.0</td>\n",
       "      <td>3.0</td>\n",
       "      <td>2.0</td>\n",
       "      <td>26.0</td>\n",
       "      <td>26.0</td>\n",
       "      <td>3.0</td>\n",
       "    </tr>\n",
       "  </tbody>\n",
       "</table>\n",
       "<p>5 rows × 51 columns</p>\n",
       "</div>"
      ],
      "text/plain": [
       "   ID      VAR0      VAR1      VAR2      VAR3      VAR4      VAR5   VAR6  \\\n",
       "0   0  0.799805  0.184174  0.000000  0.000000  0.168984  0.037037  0.000   \n",
       "1   1       NaN  0.180594  0.000000  0.000000  0.165312       NaN    NaN   \n",
       "2   2  0.799805  0.199255  0.000000  0.000000  0.167613  0.000000  0.000   \n",
       "3   3  0.677137  0.209870  0.166667  0.181818  0.190511  0.222222  0.125   \n",
       "4   4       NaN  0.180594  0.000000  0.000000  0.165312  0.000000    NaN   \n",
       "\n",
       "       VAR7      VAR8  ...  CAT3  CAT4  CAT5  CAT6  CAT7  CAT8  CAT9  CAT10  \\\n",
       "0  0.200195  0.788112  ...   2.0   4.0   3.0   2.0   2.0   2.0   7.0    7.0   \n",
       "1       NaN       NaN  ...   1.0   3.0   0.0   3.0  26.0   3.0   2.0   26.0   \n",
       "2  0.200195  0.788112  ...   2.0   2.0   6.0   2.0  15.0   2.0   7.0   15.0   \n",
       "3  0.322863  0.788112  ...   0.0   1.0   3.0   1.0  19.0   2.0   7.0   19.0   \n",
       "4       NaN       NaN  ...   1.0   4.0   0.0   3.0  26.0   3.0   2.0   26.0   \n",
       "\n",
       "   CAT11  CAT12  \n",
       "0    0.0    0.0  \n",
       "1   26.0    3.0  \n",
       "2   15.0    0.0  \n",
       "3   19.0    0.0  \n",
       "4   26.0    3.0  \n",
       "\n",
       "[5 rows x 51 columns]"
      ]
     },
     "execution_count": 3,
     "metadata": {},
     "output_type": "execute_result"
    }
   ],
   "source": [
    "\n",
    "# read data into data frame\n",
    "df_train = pd.read_csv(path_train_baseline)\n",
    "df_train.head()\n"
   ]
  },
  {
   "cell_type": "code",
   "execution_count": 4,
   "id": "f4818422",
   "metadata": {
    "scrolled": false
   },
   "outputs": [
    {
     "name": "stdout",
     "output_type": "stream",
     "text": [
      "Training GAUSSIANNB...\n",
      "Training DecisionTree...\n",
      "Training KNeighbors...\n",
      "Training LogisticReg...\n",
      "Training RandomForest...\n",
      "Training XGBoost...\n",
      "[13:02:31] WARNING: /Users/runner/work/xgboost/xgboost/src/learner.cc:1115: Starting in XGBoost 1.3.0, the default evaluation metric used with the objective 'binary:logistic' was changed from 'error' to 'logloss'. Explicitly set eval_metric if you'd like to restore the old behavior.\n",
      " executed in 8.9 seconds.\n",
      "Training LightGBM...\n",
      " executed in 1.6 seconds.\n"
     ]
    },
    {
     "data": {
      "image/png": "[encoded data removed]",
      "text/plain": [
       "<Figure size 1152x576 with 1 Axes>"
      ]
     },
     "metadata": {
      "needs_background": "light"
     },
     "output_type": "display_data"
    },
    {
     "name": "stdout",
     "output_type": "stream",
     "text": [
      "Testing GAUSSIANNB...\n",
      "Testing DecisionTree...\n",
      "Testing KNeighbors...\n",
      "Testing LogisticReg...\n",
      "Testing RandomForest...\n",
      "Testing XGBoost...\n",
      " ###### Confusion Matrix #######\n",
      "[[5427  275]\n",
      " [ 230   68]]\n",
      " ###############################\n",
      " executed in 0.0 seconds.\n",
      "Testing LightGBM...\n",
      " ###### Confusion Matrix #######\n",
      "[[5696    6]\n",
      " [ 293    5]]\n",
      " ###############################\n",
      " executed in 0.1 seconds.\n"
     ]
    },
    {
     "data": {
      "image/png": "[encoded data removed]",
      "text/plain": [
       "<Figure size 1152x576 with 1 Axes>"
      ]
     },
     "metadata": {
      "needs_background": "light"
     },
     "output_type": "display_data"
    }
   ],
   "source": [
    "\n",
    "col     = \"TARGET\"\n",
    "exclude = [\"ID\"]\n",
    "\n",
    "# drop excluded columns and target column for X value\n",
    "X = df_train.drop(exclude + [col], axis=1).values\n",
    "\n",
    "# get target values\n",
    "y = df_train[col].values\n",
    "\n",
    "classifiers  = Classifiers(X, y, test_size=0.20, classifiers = CustomMLClassifiers.list(set_class_weight=True))\n",
    "\n",
    "scores_train = classifiers.compare_train(cv=5)\n",
    "score_test   = classifiers.compare_test()\n",
    "\n"
   ]
  },
  {
   "cell_type": "code",
   "execution_count": 5,
   "id": "6d0c3950",
   "metadata": {},
   "outputs": [
    {
     "data": {
      "text/plain": [
       "XGBClassifier(base_score=0.5, booster='gbtree', colsample_bylevel=1,\n",
       "              colsample_bynode=1, colsample_bytree=1, enable_categorical=False,\n",
       "              gamma=0, gpu_id=-1, importance_type=None,\n",
       "              interaction_constraints='', learning_rate=0.300000012,\n",
       "              max_delta_step=0, max_depth=6, min_child_weight=1, missing=nan,\n",
       "              monotone_constraints='()', n_estimators=100, n_jobs=4,\n",
       "              num_parallel_tree=1, predictor='auto', random_state=0,\n",
       "              reg_alpha=0, reg_lambda=1, scale_pos_weight=19, subsample=1,\n",
       "              tree_method='exact', use_label_encoder=False,\n",
       "              validate_parameters=1, verbosity=None)"
      ]
     },
     "execution_count": 5,
     "metadata": {},
     "output_type": "execute_result"
    }
   ],
   "source": [
    "classifiers.classifiers[-2].value.model"
   ]
  },
  {
   "cell_type": "code",
   "execution_count": 6,
   "id": "79c03b55",
   "metadata": {},
   "outputs": [
    {
     "data": {
      "text/plain": [
       "19.1173512154233"
      ]
     },
     "execution_count": 6,
     "metadata": {},
     "output_type": "execute_result"
    }
   ],
   "source": [
    "# negative / positive samples for y_train\n",
    "(classifiers.y_train.shape[0] - classifiers.y_train.sum()) / classifiers.y_train.sum()"
   ]
  },
  {
   "cell_type": "code",
   "execution_count": 7,
   "id": "2c9f075b",
   "metadata": {},
   "outputs": [
    {
     "data": {
      "text/plain": [
       "19.13422818791946"
      ]
     },
     "execution_count": 7,
     "metadata": {},
     "output_type": "execute_result"
    }
   ],
   "source": [
    "# negative / positive for y_test\n",
    "(classifiers.y_test.shape[0] - classifiers.y_test.sum()) / classifiers.y_test.sum()"
   ]
  },
  {
   "cell_type": "code",
   "execution_count": null,
   "id": "4b889fab",
   "metadata": {},
   "outputs": [],
   "source": []
  }
 ],
 "metadata": {
  "kernelspec": {
   "display_name": "Python 3 (ipykernel)",
   "language": "python",
   "name": "python3"
  },
  "language_info": {
   "codemirror_mode": {
    "name": "ipython",
    "version": 3
   },
   "file_extension": ".py",
   "mimetype": "text/x-python",
   "name": "python",
   "nbconvert_exporter": "python",
   "pygments_lexer": "ipython3",
   "version": "3.8.8"
  },
  "varInspector": {
   "cols": {
    "lenName": 16,
    "lenType": 16,
    "lenVar": 40
   },
   "kernels_config": {
    "python": {
     "delete_cmd_postfix": "",
     "delete_cmd_prefix": "del ",
     "library": "var_list.py",
     "varRefreshCmd": "print(var_dic_list())"
    },
    "r": {
     "delete_cmd_postfix": ") ",
     "delete_cmd_prefix": "rm(",
     "library": "var_list.r",
     "varRefreshCmd": "cat(var_dic_list()) "
    }
   },
   "types_to_exclude": [
    "module",
    "function",
    "builtin_function_or_method",
    "instance",
    "_Feature"
   ],
   "window_display": false
  }
 },
 "nbformat": 4,
 "nbformat_minor": 5
}
