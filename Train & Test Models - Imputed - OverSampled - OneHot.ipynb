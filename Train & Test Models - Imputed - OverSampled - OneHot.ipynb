{
 "cells": [
  {
   "cell_type": "code",
   "execution_count": 1,
   "id": "a44e6e48",
   "metadata": {},
   "outputs": [
    {
     "name": "stderr",
     "output_type": "stream",
     "text": [
      "/Users/firattamur/Desktop/spring22/indr491/QNBFinansBank/env/lib/python3.8/site-packages/xgboost/compat.py:36: FutureWarning: pandas.Int64Index is deprecated and will be removed from pandas in a future version. Use pandas.Index with the appropriate dtype instead.\n",
      "  from pandas import MultiIndex, Int64Index\n"
     ]
    }
   ],
   "source": [
    "\n",
    "import numpy  as np\n",
    "import pandas as pd\n",
    "\n",
    "\n",
    "from models.classifiers import Classifiers\n",
    "from models.custom_ml_classifiers import CustomMLClassifiers\n",
    "\n",
    "import warnings\n",
    "warnings.filterwarnings('ignore')\n"
   ]
  },
  {
   "cell_type": "code",
   "execution_count": 2,
   "id": "038c121e",
   "metadata": {},
   "outputs": [],
   "source": [
    "\n",
    "# data paths\n",
    "path_train_baseline = \"./data/train_imputed_balanced_onehotencoded.csv\"\n"
   ]
  },
  {
   "cell_type": "code",
   "execution_count": 3,
   "id": "c0d76485",
   "metadata": {
    "scrolled": true
   },
   "outputs": [
    {
     "data": {
      "text/html": [
       "<div>\n",
       "<style scoped>\n",
       "    .dataframe tbody tr th:only-of-type {\n",
       "        vertical-align: middle;\n",
       "    }\n",
       "\n",
       "    .dataframe tbody tr th {\n",
       "        vertical-align: top;\n",
       "    }\n",
       "\n",
       "    .dataframe thead th {\n",
       "        text-align: right;\n",
       "    }\n",
       "</style>\n",
       "<table border=\"1\" class=\"dataframe\">\n",
       "  <thead>\n",
       "    <tr style=\"text-align: right;\">\n",
       "      <th></th>\n",
       "      <th>ID</th>\n",
       "      <th>VAR0</th>\n",
       "      <th>VAR1</th>\n",
       "      <th>VAR2</th>\n",
       "      <th>VAR3</th>\n",
       "      <th>VAR4</th>\n",
       "      <th>VAR5</th>\n",
       "      <th>VAR6</th>\n",
       "      <th>VAR7</th>\n",
       "      <th>VAR8</th>\n",
       "      <th>...</th>\n",
       "      <th>CAT158</th>\n",
       "      <th>CAT159</th>\n",
       "      <th>CAT160</th>\n",
       "      <th>CAT161</th>\n",
       "      <th>CAT162</th>\n",
       "      <th>CAT163</th>\n",
       "      <th>CAT164</th>\n",
       "      <th>CAT165</th>\n",
       "      <th>CAT166</th>\n",
       "      <th>CAT167</th>\n",
       "    </tr>\n",
       "  </thead>\n",
       "  <tbody>\n",
       "    <tr>\n",
       "      <th>0</th>\n",
       "      <td>0</td>\n",
       "      <td>0.799805</td>\n",
       "      <td>0.184174</td>\n",
       "      <td>0.000000</td>\n",
       "      <td>0.000000</td>\n",
       "      <td>0.168984</td>\n",
       "      <td>0.037037</td>\n",
       "      <td>0.000000</td>\n",
       "      <td>0.200195</td>\n",
       "      <td>0.788112</td>\n",
       "      <td>...</td>\n",
       "      <td>0.0</td>\n",
       "      <td>0.0</td>\n",
       "      <td>0.0</td>\n",
       "      <td>0.0</td>\n",
       "      <td>0.0</td>\n",
       "      <td>1.0</td>\n",
       "      <td>0.0</td>\n",
       "      <td>0.0</td>\n",
       "      <td>0.0</td>\n",
       "      <td>0.0</td>\n",
       "    </tr>\n",
       "    <tr>\n",
       "      <th>1</th>\n",
       "      <td>1</td>\n",
       "      <td>0.725049</td>\n",
       "      <td>0.180594</td>\n",
       "      <td>0.000000</td>\n",
       "      <td>0.000000</td>\n",
       "      <td>0.165312</td>\n",
       "      <td>0.090790</td>\n",
       "      <td>0.054237</td>\n",
       "      <td>0.255107</td>\n",
       "      <td>0.722679</td>\n",
       "      <td>...</td>\n",
       "      <td>0.0</td>\n",
       "      <td>0.0</td>\n",
       "      <td>0.0</td>\n",
       "      <td>0.0</td>\n",
       "      <td>1.0</td>\n",
       "      <td>0.0</td>\n",
       "      <td>0.0</td>\n",
       "      <td>0.0</td>\n",
       "      <td>1.0</td>\n",
       "      <td>0.0</td>\n",
       "    </tr>\n",
       "    <tr>\n",
       "      <th>2</th>\n",
       "      <td>2</td>\n",
       "      <td>0.799805</td>\n",
       "      <td>0.199255</td>\n",
       "      <td>0.000000</td>\n",
       "      <td>0.000000</td>\n",
       "      <td>0.167613</td>\n",
       "      <td>0.000000</td>\n",
       "      <td>0.000000</td>\n",
       "      <td>0.200195</td>\n",
       "      <td>0.788112</td>\n",
       "      <td>...</td>\n",
       "      <td>0.0</td>\n",
       "      <td>0.0</td>\n",
       "      <td>0.0</td>\n",
       "      <td>0.0</td>\n",
       "      <td>0.0</td>\n",
       "      <td>1.0</td>\n",
       "      <td>0.0</td>\n",
       "      <td>0.0</td>\n",
       "      <td>0.0</td>\n",
       "      <td>0.0</td>\n",
       "    </tr>\n",
       "    <tr>\n",
       "      <th>3</th>\n",
       "      <td>3</td>\n",
       "      <td>0.677137</td>\n",
       "      <td>0.209870</td>\n",
       "      <td>0.166667</td>\n",
       "      <td>0.181818</td>\n",
       "      <td>0.190511</td>\n",
       "      <td>0.222222</td>\n",
       "      <td>0.125000</td>\n",
       "      <td>0.322863</td>\n",
       "      <td>0.788112</td>\n",
       "      <td>...</td>\n",
       "      <td>0.0</td>\n",
       "      <td>0.0</td>\n",
       "      <td>0.0</td>\n",
       "      <td>0.0</td>\n",
       "      <td>0.0</td>\n",
       "      <td>1.0</td>\n",
       "      <td>0.0</td>\n",
       "      <td>0.0</td>\n",
       "      <td>0.0</td>\n",
       "      <td>0.0</td>\n",
       "    </tr>\n",
       "    <tr>\n",
       "      <th>4</th>\n",
       "      <td>4</td>\n",
       "      <td>0.725049</td>\n",
       "      <td>0.180594</td>\n",
       "      <td>0.000000</td>\n",
       "      <td>0.000000</td>\n",
       "      <td>0.165312</td>\n",
       "      <td>0.000000</td>\n",
       "      <td>0.054237</td>\n",
       "      <td>0.255107</td>\n",
       "      <td>0.722679</td>\n",
       "      <td>...</td>\n",
       "      <td>0.0</td>\n",
       "      <td>0.0</td>\n",
       "      <td>0.0</td>\n",
       "      <td>0.0</td>\n",
       "      <td>1.0</td>\n",
       "      <td>0.0</td>\n",
       "      <td>0.0</td>\n",
       "      <td>0.0</td>\n",
       "      <td>1.0</td>\n",
       "      <td>0.0</td>\n",
       "    </tr>\n",
       "  </tbody>\n",
       "</table>\n",
       "<p>5 rows × 206 columns</p>\n",
       "</div>"
      ],
      "text/plain": [
       "   ID      VAR0      VAR1      VAR2      VAR3      VAR4      VAR5      VAR6  \\\n",
       "0   0  0.799805  0.184174  0.000000  0.000000  0.168984  0.037037  0.000000   \n",
       "1   1  0.725049  0.180594  0.000000  0.000000  0.165312  0.090790  0.054237   \n",
       "2   2  0.799805  0.199255  0.000000  0.000000  0.167613  0.000000  0.000000   \n",
       "3   3  0.677137  0.209870  0.166667  0.181818  0.190511  0.222222  0.125000   \n",
       "4   4  0.725049  0.180594  0.000000  0.000000  0.165312  0.000000  0.054237   \n",
       "\n",
       "       VAR7      VAR8  ...  CAT158  CAT159  CAT160  CAT161  CAT162  CAT163  \\\n",
       "0  0.200195  0.788112  ...     0.0     0.0     0.0     0.0     0.0     1.0   \n",
       "1  0.255107  0.722679  ...     0.0     0.0     0.0     0.0     1.0     0.0   \n",
       "2  0.200195  0.788112  ...     0.0     0.0     0.0     0.0     0.0     1.0   \n",
       "3  0.322863  0.788112  ...     0.0     0.0     0.0     0.0     0.0     1.0   \n",
       "4  0.255107  0.722679  ...     0.0     0.0     0.0     0.0     1.0     0.0   \n",
       "\n",
       "   CAT164  CAT165  CAT166  CAT167  \n",
       "0     0.0     0.0     0.0     0.0  \n",
       "1     0.0     0.0     1.0     0.0  \n",
       "2     0.0     0.0     0.0     0.0  \n",
       "3     0.0     0.0     0.0     0.0  \n",
       "4     0.0     0.0     1.0     0.0  \n",
       "\n",
       "[5 rows x 206 columns]"
      ]
     },
     "execution_count": 3,
     "metadata": {},
     "output_type": "execute_result"
    }
   ],
   "source": [
    "\n",
    "# read data into data frame\n",
    "df_train = pd.read_csv(path_train_baseline)\n",
    "df_train.head()\n"
   ]
  },
  {
   "cell_type": "code",
   "execution_count": 4,
   "id": "f4818422",
   "metadata": {
    "scrolled": false
   },
   "outputs": [
    {
     "name": "stdout",
     "output_type": "stream",
     "text": [
      "Training GAUSSIANNB...\n",
      " executed in 2.1 seconds.\n",
      "Training DecisionTree...\n",
      " executed in 6.4 seconds.\n",
      "Training KNeighbors...\n",
      " executed in 324.7 seconds.\n",
      "Training LogisticReg...\n",
      " executed in 5.9 seconds.\n",
      "Training RandomForest...\n",
      " executed in 41.4 seconds.\n",
      "Training XGBoost...\n",
      "[03:03:29] WARNING: /Users/runner/work/xgboost/xgboost/src/learner.cc:1115: Starting in XGBoost 1.3.0, the default evaluation metric used with the objective 'binary:logistic' was changed from 'error' to 'logloss'. Explicitly set eval_metric if you'd like to restore the old behavior.\n",
      "[03:03:49] WARNING: /Users/runner/work/xgboost/xgboost/src/learner.cc:1115: Starting in XGBoost 1.3.0, the default evaluation metric used with the objective 'binary:logistic' was changed from 'error' to 'logloss'. Explicitly set eval_metric if you'd like to restore the old behavior.\n",
      "[03:04:15] WARNING: /Users/runner/work/xgboost/xgboost/src/learner.cc:1115: Starting in XGBoost 1.3.0, the default evaluation metric used with the objective 'binary:logistic' was changed from 'error' to 'logloss'. Explicitly set eval_metric if you'd like to restore the old behavior.\n",
      "[03:04:39] WARNING: /Users/runner/work/xgboost/xgboost/src/learner.cc:1115: Starting in XGBoost 1.3.0, the default evaluation metric used with the objective 'binary:logistic' was changed from 'error' to 'logloss'. Explicitly set eval_metric if you'd like to restore the old behavior.\n",
      "[03:05:04] WARNING: /Users/runner/work/xgboost/xgboost/src/learner.cc:1115: Starting in XGBoost 1.3.0, the default evaluation metric used with the objective 'binary:logistic' was changed from 'error' to 'logloss'. Explicitly set eval_metric if you'd like to restore the old behavior.\n",
      " executed in 125.2 seconds.\n",
      "Training LightGBM...\n",
      " executed in 7.0 seconds.\n"
     ]
    },
    {
     "data": {
      "image/png": "[encoded data removed]",
      "text/plain": [
       "<Figure size 1152x576 with 1 Axes>"
      ]
     },
     "metadata": {
      "needs_background": "light"
     },
     "output_type": "display_data"
    },
    {
     "name": "stdout",
     "output_type": "stream",
     "text": [
      "Testing GAUSSIANNB...\n",
      " ###### Confusion Matrix #######\n",
      "[[ 249 5453]\n",
      " [ 104 5562]]\n",
      " ###############################\n",
      " executed in 0.1 seconds.\n",
      "Testing DecisionTree...\n",
      " ###### Confusion Matrix #######\n",
      "[[5261  441]\n",
      " [  16 5650]]\n",
      " ###############################\n",
      " executed in 0.0 seconds.\n",
      "Testing KNeighbors...\n",
      " ###### Confusion Matrix #######\n",
      "[[5324  378]\n",
      " [  27 5639]]\n",
      " ###############################\n",
      " executed in 17.6 seconds.\n",
      "Testing LogisticReg...\n",
      " ###### Confusion Matrix #######\n",
      "[[4363 1339]\n",
      " [1531 4135]]\n",
      " ###############################\n",
      " executed in 0.0 seconds.\n",
      "Testing RandomForest...\n",
      " ###### Confusion Matrix #######\n",
      "[[5638   64]\n",
      " [  16 5650]]\n",
      " ###############################\n",
      " executed in 0.5 seconds.\n",
      "Testing XGBoost...\n",
      " ###### Confusion Matrix #######\n",
      "[[5264  438]\n",
      " [ 227 5439]]\n",
      " ###############################\n",
      " executed in 0.1 seconds.\n",
      "Testing LightGBM...\n",
      " ###### Confusion Matrix #######\n",
      "[[4526 1176]\n",
      " [ 819 4847]]\n",
      " ###############################\n",
      " executed in 0.1 seconds.\n"
     ]
    },
    {
     "data": {
      "image/png": "[encoded data removed]",
      "text/plain": [
       "<Figure size 1152x576 with 1 Axes>"
      ]
     },
     "metadata": {
      "needs_background": "light"
     },
     "output_type": "display_data"
    }
   ],
   "source": [
    "\n",
    "col     = \"TARGET\"\n",
    "exclude = [\"ID\"]\n",
    "\n",
    "# drop excluded columns and target column for X value\n",
    "X = df_train.drop(exclude + [col], axis=1).values\n",
    "\n",
    "# get target values\n",
    "y = df_train[col].values\n",
    "\n",
    "classifiers  = Classifiers(X, y, test_size=0.20, classifiers = CustomMLClassifiers.list(set_class_weight=False))\n",
    "\n",
    "scores_train = classifiers.compare_train(cv=5)\n",
    "score_test   = classifiers.compare_test()\n",
    "\n"
   ]
  },
  {
   "cell_type": "code",
   "execution_count": null,
   "id": "29c3147e",
   "metadata": {},
   "outputs": [],
   "source": []
  }
 ],
 "metadata": {
  "kernelspec": {
   "display_name": "Python 3 (ipykernel)",
   "language": "python",
   "name": "python3"
  },
  "language_info": {
   "codemirror_mode": {
    "name": "ipython",
    "version": 3
   },
   "file_extension": ".py",
   "mimetype": "text/x-python",
   "name": "python",
   "nbconvert_exporter": "python",
   "pygments_lexer": "ipython3",
   "version": "3.8.8"
  },
  "varInspector": {
   "cols": {
    "lenName": 16,
    "lenType": 16,
    "lenVar": 40
   },
   "kernels_config": {
    "python": {
     "delete_cmd_postfix": "",
     "delete_cmd_prefix": "del ",
     "library": "var_list.py",
     "varRefreshCmd": "print(var_dic_list())"
    },
    "r": {
     "delete_cmd_postfix": ") ",
     "delete_cmd_prefix": "rm(",
     "library": "var_list.r",
     "varRefreshCmd": "cat(var_dic_list()) "
    }
   },
   "types_to_exclude": [
    "module",
    "function",
    "builtin_function_or_method",
    "instance",
    "_Feature"
   ],
   "window_display": false
  }
 },
 "nbformat": 4,
 "nbformat_minor": 5
}
