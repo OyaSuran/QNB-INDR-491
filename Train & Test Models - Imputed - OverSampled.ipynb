{
 "cells": [
  {
   "cell_type": "code",
   "execution_count": 1,
   "id": "a44e6e48",
   "metadata": {},
   "outputs": [
    {
     "name": "stderr",
     "output_type": "stream",
     "text": [
      "/Users/firattamur/Desktop/spring22/indr491/QNBFinansBank/env/lib/python3.8/site-packages/xgboost/compat.py:36: FutureWarning: pandas.Int64Index is deprecated and will be removed from pandas in a future version. Use pandas.Index with the appropriate dtype instead.\n",
      "  from pandas import MultiIndex, Int64Index\n"
     ]
    }
   ],
   "source": [
    "\n",
    "import numpy  as np\n",
    "import pandas as pd\n",
    "\n",
    "\n",
    "from models.classifiers import Classifiers\n",
    "from models.custom_ml_classifiers import CustomMLClassifiers\n",
    "\n",
    "import warnings\n",
    "warnings.filterwarnings('ignore')\n"
   ]
  },
  {
   "cell_type": "code",
   "execution_count": 2,
   "id": "038c121e",
   "metadata": {},
   "outputs": [],
   "source": [
    "\n",
    "# data paths\n",
    "path_train_baseline = \"./data/train_imputed_balanced.csv\"\n"
   ]
  },
  {
   "cell_type": "code",
   "execution_count": 3,
   "id": "c0d76485",
   "metadata": {
    "scrolled": true
   },
   "outputs": [
    {
     "data": {
      "text/html": [
       "<div>\n",
       "<style scoped>\n",
       "    .dataframe tbody tr th:only-of-type {\n",
       "        vertical-align: middle;\n",
       "    }\n",
       "\n",
       "    .dataframe tbody tr th {\n",
       "        vertical-align: top;\n",
       "    }\n",
       "\n",
       "    .dataframe thead th {\n",
       "        text-align: right;\n",
       "    }\n",
       "</style>\n",
       "<table border=\"1\" class=\"dataframe\">\n",
       "  <thead>\n",
       "    <tr style=\"text-align: right;\">\n",
       "      <th></th>\n",
       "      <th>ID</th>\n",
       "      <th>VAR0</th>\n",
       "      <th>VAR1</th>\n",
       "      <th>VAR2</th>\n",
       "      <th>VAR3</th>\n",
       "      <th>VAR4</th>\n",
       "      <th>VAR5</th>\n",
       "      <th>VAR6</th>\n",
       "      <th>VAR7</th>\n",
       "      <th>VAR8</th>\n",
       "      <th>...</th>\n",
       "      <th>CAT3</th>\n",
       "      <th>CAT4</th>\n",
       "      <th>CAT5</th>\n",
       "      <th>CAT6</th>\n",
       "      <th>CAT7</th>\n",
       "      <th>CAT8</th>\n",
       "      <th>CAT9</th>\n",
       "      <th>CAT10</th>\n",
       "      <th>CAT11</th>\n",
       "      <th>CAT12</th>\n",
       "    </tr>\n",
       "  </thead>\n",
       "  <tbody>\n",
       "    <tr>\n",
       "      <th>0</th>\n",
       "      <td>0</td>\n",
       "      <td>0.799805</td>\n",
       "      <td>0.184174</td>\n",
       "      <td>0.000000</td>\n",
       "      <td>0.000000</td>\n",
       "      <td>0.168984</td>\n",
       "      <td>0.037037</td>\n",
       "      <td>0.000000</td>\n",
       "      <td>0.200195</td>\n",
       "      <td>0.788112</td>\n",
       "      <td>...</td>\n",
       "      <td>2.0</td>\n",
       "      <td>4.0</td>\n",
       "      <td>3.0</td>\n",
       "      <td>2.0</td>\n",
       "      <td>2.0</td>\n",
       "      <td>2.0</td>\n",
       "      <td>7.0</td>\n",
       "      <td>7.0</td>\n",
       "      <td>0.0</td>\n",
       "      <td>0.0</td>\n",
       "    </tr>\n",
       "    <tr>\n",
       "      <th>1</th>\n",
       "      <td>1</td>\n",
       "      <td>0.725049</td>\n",
       "      <td>0.180594</td>\n",
       "      <td>0.000000</td>\n",
       "      <td>0.000000</td>\n",
       "      <td>0.165312</td>\n",
       "      <td>0.090790</td>\n",
       "      <td>0.054237</td>\n",
       "      <td>0.255107</td>\n",
       "      <td>0.722679</td>\n",
       "      <td>...</td>\n",
       "      <td>1.0</td>\n",
       "      <td>3.0</td>\n",
       "      <td>0.0</td>\n",
       "      <td>3.0</td>\n",
       "      <td>26.0</td>\n",
       "      <td>3.0</td>\n",
       "      <td>2.0</td>\n",
       "      <td>26.0</td>\n",
       "      <td>26.0</td>\n",
       "      <td>3.0</td>\n",
       "    </tr>\n",
       "    <tr>\n",
       "      <th>2</th>\n",
       "      <td>2</td>\n",
       "      <td>0.799805</td>\n",
       "      <td>0.199255</td>\n",
       "      <td>0.000000</td>\n",
       "      <td>0.000000</td>\n",
       "      <td>0.167613</td>\n",
       "      <td>0.000000</td>\n",
       "      <td>0.000000</td>\n",
       "      <td>0.200195</td>\n",
       "      <td>0.788112</td>\n",
       "      <td>...</td>\n",
       "      <td>2.0</td>\n",
       "      <td>2.0</td>\n",
       "      <td>6.0</td>\n",
       "      <td>2.0</td>\n",
       "      <td>15.0</td>\n",
       "      <td>2.0</td>\n",
       "      <td>7.0</td>\n",
       "      <td>15.0</td>\n",
       "      <td>15.0</td>\n",
       "      <td>0.0</td>\n",
       "    </tr>\n",
       "    <tr>\n",
       "      <th>3</th>\n",
       "      <td>3</td>\n",
       "      <td>0.677137</td>\n",
       "      <td>0.209870</td>\n",
       "      <td>0.166667</td>\n",
       "      <td>0.181818</td>\n",
       "      <td>0.190511</td>\n",
       "      <td>0.222222</td>\n",
       "      <td>0.125000</td>\n",
       "      <td>0.322863</td>\n",
       "      <td>0.788112</td>\n",
       "      <td>...</td>\n",
       "      <td>0.0</td>\n",
       "      <td>1.0</td>\n",
       "      <td>3.0</td>\n",
       "      <td>1.0</td>\n",
       "      <td>19.0</td>\n",
       "      <td>2.0</td>\n",
       "      <td>7.0</td>\n",
       "      <td>19.0</td>\n",
       "      <td>19.0</td>\n",
       "      <td>0.0</td>\n",
       "    </tr>\n",
       "    <tr>\n",
       "      <th>4</th>\n",
       "      <td>4</td>\n",
       "      <td>0.725049</td>\n",
       "      <td>0.180594</td>\n",
       "      <td>0.000000</td>\n",
       "      <td>0.000000</td>\n",
       "      <td>0.165312</td>\n",
       "      <td>0.000000</td>\n",
       "      <td>0.054237</td>\n",
       "      <td>0.255107</td>\n",
       "      <td>0.722679</td>\n",
       "      <td>...</td>\n",
       "      <td>1.0</td>\n",
       "      <td>4.0</td>\n",
       "      <td>0.0</td>\n",
       "      <td>3.0</td>\n",
       "      <td>26.0</td>\n",
       "      <td>3.0</td>\n",
       "      <td>2.0</td>\n",
       "      <td>26.0</td>\n",
       "      <td>26.0</td>\n",
       "      <td>3.0</td>\n",
       "    </tr>\n",
       "  </tbody>\n",
       "</table>\n",
       "<p>5 rows × 51 columns</p>\n",
       "</div>"
      ],
      "text/plain": [
       "   ID      VAR0      VAR1      VAR2      VAR3      VAR4      VAR5      VAR6  \\\n",
       "0   0  0.799805  0.184174  0.000000  0.000000  0.168984  0.037037  0.000000   \n",
       "1   1  0.725049  0.180594  0.000000  0.000000  0.165312  0.090790  0.054237   \n",
       "2   2  0.799805  0.199255  0.000000  0.000000  0.167613  0.000000  0.000000   \n",
       "3   3  0.677137  0.209870  0.166667  0.181818  0.190511  0.222222  0.125000   \n",
       "4   4  0.725049  0.180594  0.000000  0.000000  0.165312  0.000000  0.054237   \n",
       "\n",
       "       VAR7      VAR8  ...  CAT3  CAT4  CAT5  CAT6  CAT7  CAT8  CAT9  CAT10  \\\n",
       "0  0.200195  0.788112  ...   2.0   4.0   3.0   2.0   2.0   2.0   7.0    7.0   \n",
       "1  0.255107  0.722679  ...   1.0   3.0   0.0   3.0  26.0   3.0   2.0   26.0   \n",
       "2  0.200195  0.788112  ...   2.0   2.0   6.0   2.0  15.0   2.0   7.0   15.0   \n",
       "3  0.322863  0.788112  ...   0.0   1.0   3.0   1.0  19.0   2.0   7.0   19.0   \n",
       "4  0.255107  0.722679  ...   1.0   4.0   0.0   3.0  26.0   3.0   2.0   26.0   \n",
       "\n",
       "   CAT11  CAT12  \n",
       "0    0.0    0.0  \n",
       "1   26.0    3.0  \n",
       "2   15.0    0.0  \n",
       "3   19.0    0.0  \n",
       "4   26.0    3.0  \n",
       "\n",
       "[5 rows x 51 columns]"
      ]
     },
     "execution_count": 3,
     "metadata": {},
     "output_type": "execute_result"
    }
   ],
   "source": [
    "\n",
    "# read data into data frame\n",
    "df_train = pd.read_csv(path_train_baseline)\n",
    "df_train.head()\n"
   ]
  },
  {
   "cell_type": "code",
   "execution_count": 4,
   "id": "f4818422",
   "metadata": {
    "scrolled": false
   },
   "outputs": [
    {
     "name": "stdout",
     "output_type": "stream",
     "text": [
      "Training GAUSSIANNB...\n",
      " executed in 0.8 seconds.\n",
      "Training DecisionTree...\n",
      " executed in 3.3 seconds.\n",
      "Training KNeighbors...\n",
      " executed in 277.4 seconds.\n",
      "Training LogisticReg...\n",
      " executed in 2.0 seconds.\n",
      "Training RandomForest...\n",
      " executed in 38.1 seconds.\n",
      "Training XGBoost...\n",
      "[02:38:07] WARNING: /Users/runner/work/xgboost/xgboost/src/learner.cc:1115: Starting in XGBoost 1.3.0, the default evaluation metric used with the objective 'binary:logistic' was changed from 'error' to 'logloss'. Explicitly set eval_metric if you'd like to restore the old behavior.\n",
      "[02:38:12] WARNING: /Users/runner/work/xgboost/xgboost/src/learner.cc:1115: Starting in XGBoost 1.3.0, the default evaluation metric used with the objective 'binary:logistic' was changed from 'error' to 'logloss'. Explicitly set eval_metric if you'd like to restore the old behavior.\n",
      "[02:38:18] WARNING: /Users/runner/work/xgboost/xgboost/src/learner.cc:1115: Starting in XGBoost 1.3.0, the default evaluation metric used with the objective 'binary:logistic' was changed from 'error' to 'logloss'. Explicitly set eval_metric if you'd like to restore the old behavior.\n",
      "[02:38:24] WARNING: /Users/runner/work/xgboost/xgboost/src/learner.cc:1115: Starting in XGBoost 1.3.0, the default evaluation metric used with the objective 'binary:logistic' was changed from 'error' to 'logloss'. Explicitly set eval_metric if you'd like to restore the old behavior.\n",
      "[02:38:30] WARNING: /Users/runner/work/xgboost/xgboost/src/learner.cc:1115: Starting in XGBoost 1.3.0, the default evaluation metric used with the objective 'binary:logistic' was changed from 'error' to 'logloss'. Explicitly set eval_metric if you'd like to restore the old behavior.\n",
      " executed in 29.6 seconds.\n",
      "Training LightGBM...\n",
      " executed in 9.6 seconds.\n"
     ]
    },
    {
     "data": {
      "image/png": "[encoded data removed]",
      "text/plain": [
       "<Figure size 1152x576 with 1 Axes>"
      ]
     },
     "metadata": {
      "needs_background": "light"
     },
     "output_type": "display_data"
    },
    {
     "name": "stdout",
     "output_type": "stream",
     "text": [
      "Testing GAUSSIANNB...\n",
      " ###### Confusion Matrix #######\n",
      "[[3916 1786]\n",
      " [1482 4184]]\n",
      " ###############################\n",
      " executed in 0.0 seconds.\n",
      "Testing DecisionTree...\n",
      " ###### Confusion Matrix #######\n",
      "[[5335  367]\n",
      " [  26 5640]]\n",
      " ###############################\n",
      " executed in 0.0 seconds.\n",
      "Testing KNeighbors...\n",
      " ###### Confusion Matrix #######\n",
      "[[5324  378]\n",
      " [  48 5618]]\n",
      " ###############################\n",
      " executed in 14.0 seconds.\n",
      "Testing LogisticReg...\n",
      " ###### Confusion Matrix #######\n",
      "[[4434 1268]\n",
      " [1747 3919]]\n",
      " ###############################\n",
      " executed in 0.0 seconds.\n",
      "Testing RandomForest...\n",
      " ###### Confusion Matrix #######\n",
      "[[5643   59]\n",
      " [  26 5640]]\n",
      " ###############################\n",
      " executed in 0.4 seconds.\n",
      "Testing XGBoost...\n",
      " ###### Confusion Matrix #######\n",
      "[[5287  415]\n",
      " [ 207 5459]]\n",
      " ###############################\n",
      " executed in 0.0 seconds.\n",
      "Testing LightGBM...\n",
      " ###### Confusion Matrix #######\n",
      "[[4526 1176]\n",
      " [ 826 4840]]\n",
      " ###############################\n",
      " executed in 0.1 seconds.\n"
     ]
    },
    {
     "data": {
      "image/png": "[encoded data removed]",
      "text/plain": [
       "<Figure size 1152x576 with 1 Axes>"
      ]
     },
     "metadata": {
      "needs_background": "light"
     },
     "output_type": "display_data"
    }
   ],
   "source": [
    "\n",
    "col     = \"TARGET\"\n",
    "exclude = [\"ID\"]\n",
    "\n",
    "# drop excluded columns and target column for X value\n",
    "X = df_train.drop(exclude + [col], axis=1).values\n",
    "\n",
    "# get target values\n",
    "y = df_train[col].values\n",
    "\n",
    "classifiers  = Classifiers(X, y, test_size=0.20, classifiers = CustomMLClassifiers.list(set_class_weight=False))\n",
    "\n",
    "scores_train = classifiers.compare_train(cv=5)\n",
    "score_test   = classifiers.compare_test()\n",
    "\n"
   ]
  },
  {
   "cell_type": "code",
   "execution_count": null,
   "id": "29c3147e",
   "metadata": {},
   "outputs": [],
   "source": []
  }
 ],
 "metadata": {
  "kernelspec": {
   "display_name": "Python 3 (ipykernel)",
   "language": "python",
   "name": "python3"
  },
  "language_info": {
   "codemirror_mode": {
    "name": "ipython",
    "version": 3
   },
   "file_extension": ".py",
   "mimetype": "text/x-python",
   "name": "python",
   "nbconvert_exporter": "python",
   "pygments_lexer": "ipython3",
   "version": "3.8.8"
  },
  "varInspector": {
   "cols": {
    "lenName": 16,
    "lenType": 16,
    "lenVar": 40
   },
   "kernels_config": {
    "python": {
     "delete_cmd_postfix": "",
     "delete_cmd_prefix": "del ",
     "library": "var_list.py",
     "varRefreshCmd": "print(var_dic_list())"
    },
    "r": {
     "delete_cmd_postfix": ") ",
     "delete_cmd_prefix": "rm(",
     "library": "var_list.r",
     "varRefreshCmd": "cat(var_dic_list()) "
    }
   },
   "types_to_exclude": [
    "module",
    "function",
    "builtin_function_or_method",
    "instance",
    "_Feature"
   ],
   "window_display": false
  }
 },
 "nbformat": 4,
 "nbformat_minor": 5
}
